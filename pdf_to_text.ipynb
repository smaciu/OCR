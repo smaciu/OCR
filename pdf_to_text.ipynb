{
 "cells": [
  {
   "attachments": {},
   "cell_type": "markdown",
   "metadata": {},
   "source": [
    "## OCR to extract text from scanned documents"
   ]
  },
  {
   "attachments": {},
   "cell_type": "markdown",
   "metadata": {},
   "source": [
    "Optical Character Recognition (OCR) is a technology used to convert different types of documents, such as scanned paper documents, PDF files, or images captured by a digital camera, into editable and searchable data. Here's a simplified explanation of how OCR generally works:\n",
    "\n",
    "### Steps in OCR:\n",
    "\n",
    "1. **Preprocessing**: \n",
    "    - The image is preprocessed to improve the OCR results. Preprocessing steps can include converting the image to grayscale, resizing, and applying techniques like thresholding and noise removal.\n",
    "  \n",
    "2. **Text Localization**:\n",
    "    - The algorithm identifies the regions of the image where text is present. This is important in documents where text and non-text elements (like images and graphs) are mixed.\n",
    "\n",
    "3. **Text Segmentation**:\n",
    "    - The localized text regions are further broken down into lines, words, and then into individual characters. This is often one of the most challenging steps, especially for languages where characters can be connected or vary significantly in size and shape.\n",
    "\n",
    "4. **Character Recognition**:\n",
    "    - Each segmented character is then recognized individually. This is typically done using machine learning algorithms that have been trained on thousands of examples of each character. The algorithm identifies the character that most closely matches the segmented image.\n",
    "\n",
    "5. **Post-processing**:\n",
    "    - After characters are recognized, post-processing steps like spell-checking and context analysis can be applied to correct any errors and improve accuracy.\n",
    "\n",
    "6. **Output Generation**:\n",
    "    - Finally, the recognized text is output in a structured format. This could be a simple text file, an annotated image, or more complex structures like tables and forms, depending on the application.\n",
    "\n",
    "### Technologies and Algorithms:\n",
    "\n",
    "- **Template Matching**: Early OCR systems used template matching, where each character is compared to a set of templates.\n",
    "  \n",
    "- **Feature Extraction**: Modern systems use feature extraction, where characteristics like lines, loops, and intersections are extracted from the image of each character for recognition.\n",
    "\n",
    "- **Machine Learning**: Advanced OCR systems use machine learning algorithms, including neural networks, to improve accuracy and adapt to different fonts and styles.\n",
    "\n",
    "- **Natural Language Processing (NLP)**: Some OCR systems use NLP techniques for post-processing to improve recognition results based on the context and semantics of the text.\n",
    "\n",
    "In the case of `pytesseract`, the library is a Python binding for Google's Tesseract-OCR Engine, which is one of the most accurate open-source OCR engines available. It uses a combination of the above techniques, including machine learning algorithms trained on a large dataset of text in various languages, fonts, and formats.\n",
    "\n",
  
   ]
  },
  {
   "cell_type": "code",
   "execution_count": 1,
   "metadata": {},
   "outputs": [],
   "source": [
    "from PIL import Image\n",
    "import pytesseract\n",
    "from pdf2image import convert_from_path\n",
    "import os\n",
    "from tqdm import tqdm\n",
    "\n",
    "# Convert PDF to list of images\n",
    "pdf_path = 'ruttner1988biogeography-book.pdf' # Path to scanned pdf document\n",
    "file_name = pdf_path.split('.')[0]"
   ]
  },
  {
   "cell_type": "code",
   "execution_count": 2,
   "metadata": {},
   "outputs": [
    {
     "name": "stdout",
     "output_type": "stream",
     "text": [
      "ruttner1988biogeography-book has: 292 pages.\n"
     ]
    }
   ],
   "source": [
    "# Convert only the first 3 pages of the PDF to images\n",
    "pages = convert_from_path(pdf_path, 500)  # 500 is the dpi resolution. You can add parameters to define which pages to extract (,first_page=1, last_page=3)\n",
    "print(f'{file_name} has: {len(pages)} pages.')"
   ]
  },
  {
   "cell_type": "code",
   "execution_count": 3,
   "metadata": {},
   "outputs": [
    {
     "name": "stderr",
     "output_type": "stream",
     "text": [
      "Processing pages: 100%|██████████| 292/292 [18:21<00:00,  3.77s/it]"
     ]
    },
    {
     "name": "stdout",
     "output_type": "stream",
     "text": [
      "Printed extracted the entire text to extracted_book_text.txt\n"
     ]
    },
    {
     "name": "stderr",
     "output_type": "stream",
     "text": [
      "\n"
     ]
    }
   ],
   "source": [
    "# Create a directory to store the images\n",
    "if not os.path.exists(file_name):\n",
    "    os.makedirs(file_name)\n",
    "\n",
    "# Initialize an empty string to store text\n",
    "book_text = \"\"\n",
    "\n",
    "# Loop through the list of images and perform OCR\n",
    "for i, page in enumerate(tqdm(pages, desc=\"Processing pages\")):\n",
    "    image_path = f'{file_name}/page_{i+1}.png'\n",
    "    page.save(image_path, 'PNG')\n",
    "    \n",
    "    # Perform OCR on the saved image\n",
    "    text = pytesseract.image_to_string(Image.open(image_path))\n",
    "\n",
    "    # Append the text to book_text\n",
    "    book_text += text\n",
    "    \n",
    "    # Save the extracted text to a text file for each page\n",
    "    text_file_path = f'{file_name}/page_{i+1}.txt'\n",
    "    with open(text_file_path, 'w') as f:\n",
    "        f.write(text)\n",
    "    \n",
    "# Save the extracted text to a text file\n",
    "with open(f'{file_name}.txt', 'w') as f:\n",
    "    f.write(book_text)\n",
    "\n",
    "print(f'Printed extracted the entire text to extracted_book_text.txt')\n"
   ]
  }
 ],
 "metadata": {
  "kernelspec": {
   "display_name": "adam",
   "language": "python",
   "name": "python3"
  },
  "language_info": {
   "codemirror_mode": {
    "name": "ipython",
    "version": 3
   },
   "file_extension": ".py",
   "mimetype": "text/x-python",
   "name": "python",
   "nbconvert_exporter": "python",
   "pygments_lexer": "ipython3",
   "version": "3.9.17"
  },
  "orig_nbformat": 4
 },
 "nbformat": 4,
 "nbformat_minor": 2
}
